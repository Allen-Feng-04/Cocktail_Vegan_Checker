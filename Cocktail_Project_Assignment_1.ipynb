{
  "nbformat": 4,
  "nbformat_minor": 0,
  "metadata": {
    "colab": {
      "provenance": [],
      "include_colab_link": true
    },
    "kernelspec": {
      "name": "python3",
      "display_name": "Python 3"
    },
    "language_info": {
      "name": "python"
    }
  },
  "cells": [
    {
      "cell_type": "markdown",
      "metadata": {
        "id": "view-in-github",
        "colab_type": "text"
      },
      "source": [
        "<a href=\"https://colab.research.google.com/github/Allen-Feng-04/Cocktail_Vegan_Checker/blob/main/Cocktail_Project_Assignment_1.ipynb\" target=\"_parent\"><img src=\"https://colab.research.google.com/assets/colab-badge.svg\" alt=\"Open In Colab\"/></a>"
      ]
    },
    {
      "cell_type": "code",
      "source": [
        "pip install json\n",
        "pip install requests"
      ],
      "metadata": {
        "id": "qWkdgG2H1S2N"
      },
      "execution_count": null,
      "outputs": []
    },
    {
      "cell_type": "code",
      "source": [
        "import json\n",
        "import requests\n",
        "\n",
        "def get_cocktail_recipe():\n",
        "    url = r\"https://www.thecocktaildb.com/api/json/v1/1/search.php?s=\"+cocktail\n",
        "    response = requests.get(url)\n",
        "\n",
        "    if response.status_code == 200:\n",
        "        recipe_data = response.json()\n",
        "\n",
        "        if recipe_data[\"drinks\"] is None:\n",
        "            print(\"This drink is not in the database\")\n",
        "\n",
        "        else:\n",
        "            Ingredient_Number = 1\n",
        "            Ingredients = []\n",
        "\n",
        "            while True:\n",
        "                Ingredient = recipe_data[\"drinks\"][0][\"strIngredient\"+str(Ingredient_Number)]\n",
        "                if Ingredient is None:\n",
        "                    break\n",
        "                else:\n",
        "                    Ingredients.append(Ingredient)\n",
        "                    Ingredient_Number += 1\n",
        "\n",
        "            return Ingredients\n",
        "\n",
        "    else:\n",
        "        print(\"can't connect to servers\")\n",
        "\n",
        "#construction of url based on our user's input\n",
        "cocktail = input(\"What's your cocktail? We will tell you how m\")\n",
        "recipe_list = get_cocktail_recipe()\n",
        "print(recipe_list)\n"
      ],
      "metadata": {
        "id": "oH1HjLaPy2Tk"
      },
      "execution_count": null,
      "outputs": []
    },
    {
      "cell_type": "code",
      "source": [
        "import json\n",
        "import requests\n",
        "\n",
        "def get_cocktail_data():\n",
        "    ingredient = input(\"Enter your ingredient: \")\n",
        "    url = r\"https://api.edamam.com/api/nutrition-data?app_id=6d8d69a8&app_key=%2024ac0abee61eab0eace5704c06ffe657&nutrition-type=logging&ingr=\" + ingredient\n",
        "    response = requests.get(url)\n",
        "\n",
        "    if response.status_code == 200:\n",
        "        nutrition_info = response.json()\n",
        "\n",
        "    print(nutrition_info[\"healthLabels\"])\n",
        "\n",
        "get_cocktail_data()\n"
      ],
      "metadata": {
        "id": "XTKWAlWb1EqW",
        "colab": {
          "base_uri": "https://localhost:8080/"
        },
        "outputId": "06519c94-9a5c-453d-dd58-aaf126fa6c71"
      },
      "execution_count": null,
      "outputs": [
        {
          "output_type": "stream",
          "name": "stdout",
          "text": [
            "Enter your ingredient: peanut butter\n",
            "['LOW_POTASSIUM', 'KIDNEY_FRIENDLY', 'KETO_FRIENDLY', 'VEGAN', 'VEGETARIAN', 'PESCATARIAN', 'SPECIFIC_CARBS', 'MEDITERRANEAN', 'DAIRY_FREE', 'GLUTEN_FREE', 'WHEAT_FREE', 'EGG_FREE', 'MILK_FREE', 'TREE_NUT_FREE', 'SOY_FREE', 'FISH_FREE', 'SHELLFISH_FREE', 'PORK_FREE', 'RED_MEAT_FREE', 'CRUSTACEAN_FREE', 'CELERY_FREE', 'MUSTARD_FREE', 'SESAME_FREE', 'LUPINE_FREE', 'MOLLUSK_FREE', 'ALCOHOL_FREE', 'NO_SUGAR_ADDED', 'SULPHITE_FREE', 'FODMAP_FREE', 'KOSHER']\n"
          ]
        }
      ]
    }
  ]
}